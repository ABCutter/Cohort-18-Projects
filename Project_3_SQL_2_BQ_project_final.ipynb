{
  "nbformat": 4,
  "nbformat_minor": 0,
  "metadata": {
    "colab": {
      "provenance": [],
      "include_colab_link": true
    },
    "kernelspec": {
      "name": "python3",
      "display_name": "Python 3"
    },
    "language_info": {
      "name": "python"
    }
  },
  "cells": [
    {
      "cell_type": "markdown",
      "metadata": {
        "id": "view-in-github",
        "colab_type": "text"
      },
      "source": [
        "<a href=\"https://colab.research.google.com/github/ABCutter/Cohort-18-Projects/blob/main/Project_3_SQL_2_BQ_project_final.ipynb\" target=\"_parent\"><img src=\"https://colab.research.google.com/assets/colab-badge.svg\" alt=\"Open In Colab\"/></a>"
      ]
    },
    {
      "cell_type": "markdown",
      "source": [
        "# Project SQL"
      ],
      "metadata": {
        "id": "cJG_e1vK2NMI"
      }
    },
    {
      "cell_type": "markdown",
      "source": [
        "## Pick a dataset that interests you (or multiple data sets)\n",
        "\n",
        "Use the Open Data Sets available from Google BigQuery. You can use your own Google account or Kaggle.\n",
        "\n"
      ],
      "metadata": {
        "id": "s6jMcIbW3P5o"
      }
    },
    {
      "cell_type": "code",
      "source": [],
      "metadata": {
        "id": "UhFW0uTR6Jfv"
      },
      "execution_count": null,
      "outputs": []
    },
    {
      "cell_type": "markdown",
      "source": [
        "## Come up with questions about your data\n",
        "* What sort of information is in this dataset?\n",
        "* How many records are there?\n",
        "* Have the number of bitcoin transactions increased year over year?\n",
        "* Does New Mexico get more or less rain now than 20 years ago?\n",
        "* How many different countries (states, counties, cities, etc) have records in this data set?\n",
        "\n",
        "\n"
      ],
      "metadata": {
        "id": "OA9Mp38s52x2"
      }
    },
    {
      "cell_type": "markdown",
      "source": [],
      "metadata": {
        "id": "rXL1T84TDCh_"
      }
    },
    {
      "cell_type": "markdown",
      "source": [
        "## Use SQL queries to pull specific information\n",
        "\n",
        "Do NOT pull all the data and then filter using DataFrame methods etc. Make sure and use AT LEAST 13 of the 15 SQL options listed below. (You may have to get creative and come up with more questions to ask/answer.)"
      ],
      "metadata": {
        "id": "TqvaIfog546s"
      }
    },
    {
      "cell_type": "code",
      "source": [
        "import sqlite3\n",
        "import pandas as pd\n",
        "import matplotlib.pyplot as plt\n",
        "import numpy as np\n",
        "import matplotlib.cm as cm\n",
        "import seaborn as sns"
      ],
      "metadata": {
        "id": "ovk0L5QHMrmS"
      },
      "execution_count": null,
      "outputs": []
    },
    {
      "cell_type": "markdown",
      "source": [
        "## Data Collection/Sources\n"
      ],
      "metadata": {
        "id": "jaq46wHS2Uh1"
      }
    },
    {
      "cell_type": "code",
      "source": [
        "##SETUP\n",
        "\n",
        "# Step 1: Authenticate\n",
        "from google.colab import auth\n",
        "auth.authenticate_user()\n",
        "\n",
        "# Step 2: Import packages\n",
        "from google.cloud import bigquery\n",
        "\n",
        "# Step 3: Set project ID\n",
        "project_id = \"abc-ddds-p3-cdc\"\n",
        "client = bigquery.Client(project=project_id)\n",
        "\n",
        "from google.colab import userdata\n",
        "\n",
        "billing_project_id=userdata.get('bq_billing_project_id')\n",
        "billing_project_id"
      ],
      "metadata": {
        "id": "fqWjAm-C9808"
      },
      "execution_count": null,
      "outputs": []
    },
    {
      "cell_type": "code",
      "source": [
        "%%capture\n",
        "%%bash\n",
        "apt-get update\n",
        "apt-get install -y sqlite3"
      ],
      "metadata": {
        "id": "3tJctlZhMxBS"
      },
      "execution_count": null,
      "outputs": []
    },
    {
      "cell_type": "code",
      "source": [
        "!sqlite3 --help\n",
        "#Check to make sure it's running"
      ],
      "metadata": {
        "id": "d6seK2baMx0U",
        "collapsed": true
      },
      "execution_count": null,
      "outputs": []
    },
    {
      "cell_type": "markdown",
      "source": [
        "### Basic Queries\n"
      ],
      "metadata": {
        "id": "9QgYkDsPvJf2"
      }
    },
    {
      "cell_type": "code",
      "source": [
        "!bq query --project_id=abc-ddds-p3-cdc --nouse_legacy_sql \\\n",
        "'SELECT COUNT(*) FROM `bigquery-public-data.usa_names.usa_1910_2013`'\n"
      ],
      "metadata": {
        "id": "wHk_PTx8DanW"
      },
      "execution_count": null,
      "outputs": []
    },
    {
      "cell_type": "code",
      "source": [
        "query = \"\"\"\n",
        "SELECT *\n",
        "FROM `bigquery-public-data.usa_names.usa_1910_2013`\n",
        "WHERE state = 'NM'\n",
        "AND year BETWEEN 2000 AND 2013\n",
        "LIMIT 10000\n",
        "\"\"\"\n",
        "\n",
        "df = client.query(query).to_dataframe()\n",
        "df\n"
      ],
      "metadata": {
        "id": "7M_2VvTfEERH"
      },
      "execution_count": null,
      "outputs": []
    },
    {
      "cell_type": "markdown",
      "source": [
        "## Data Cleaning\n"
      ],
      "metadata": {
        "id": "kvTak8Ka2db2"
      }
    },
    {
      "cell_type": "code",
      "source": [
        "df.isnull().sum().sum()"
      ],
      "metadata": {
        "id": "eJ-MpqS7JcjR"
      },
      "execution_count": null,
      "outputs": []
    },
    {
      "cell_type": "code",
      "source": [
        "df.describe()"
      ],
      "metadata": {
        "id": "CrD-fVQpRHDY"
      },
      "execution_count": null,
      "outputs": []
    },
    {
      "cell_type": "markdown",
      "source": [
        "No data imputation is necessary"
      ],
      "metadata": {
        "id": "EBwwnHQCJoPd"
      }
    },
    {
      "cell_type": "markdown",
      "source": [
        "## Exploratory Data Analysis\n"
      ],
      "metadata": {
        "id": "Gvh5r9Zs2fkc"
      }
    },
    {
      "cell_type": "markdown",
      "source": [
        "Use the following: SELECT, WHERE, AND, OR, LIKE, BETWEEN, LIMIT"
      ],
      "metadata": {
        "id": "q4SVVpq9KpKe"
      }
    },
    {
      "cell_type": "code",
      "source": [
        "#Asked ChatGPT about loading the data, and this was recommended, so I went with it\n",
        "# Create SQLite in-memory database and write the DataFrame to a table\n",
        "conn = sqlite3.connect(':memory:')\n",
        "df.to_sql('names', conn, index=False, if_exists='replace')\n",
        "\n",
        "# Example SQLite3 query\n",
        "query_sqlite = \"\"\"\n",
        "SELECT name, SUM(number) AS total\n",
        "FROM names\n",
        "GROUP BY name\n",
        "ORDER BY total DESC\n",
        "LIMIT 100;\n",
        "\"\"\"\n",
        "\n",
        "pd.read_sql(query_sqlite, conn)\n"
      ],
      "metadata": {
        "id": "rKPGYmpcEI11"
      },
      "execution_count": null,
      "outputs": []
    },
    {
      "cell_type": "code",
      "source": [
        "# Female baby names in NM between 2000 and 2013\n",
        "query_1 = \"\"\"\n",
        "SELECT name, gender, year, number\n",
        "FROM `bigquery-public-data.usa_names.usa_1910_2013`\n",
        "WHERE state = 'NM'\n",
        "  AND gender = 'F'\n",
        "  AND year BETWEEN 2000 AND 2013\n",
        "LIMIT 100;\n",
        "\"\"\"\n",
        "\n",
        "df_1 = client.query(query_1).to_dataframe()\n",
        "df_1\n"
      ],
      "metadata": {
        "id": "JUMKmJJDEgkf"
      },
      "execution_count": null,
      "outputs": []
    },
    {
      "cell_type": "code",
      "source": [
        "# Names in 2010 containing 'Ann' or 'Marie'\n",
        "query_2 = \"\"\"\n",
        "SELECT name, year, number\n",
        "FROM `bigquery-public-data.usa_names.usa_1910_2013`\n",
        "WHERE state = 'NM'\n",
        "  AND year = 2010\n",
        "  AND (name LIKE '%An%' OR name LIKE '%Mar%')\n",
        "LIMIT 100;\n",
        "\"\"\"\n",
        "\n",
        "df_2 = client.query(query_2).to_dataframe()\n",
        "df_2\n"
      ],
      "metadata": {
        "id": "J06fllmKEl1k"
      },
      "execution_count": null,
      "outputs": []
    },
    {
      "cell_type": "code",
      "source": [
        "# Names Ava or Lia% in 2008\n",
        "query_3 = \"\"\"\n",
        "SELECT name, gender, number\n",
        "FROM `bigquery-public-data.usa_names.usa_1910_2013`\n",
        "WHERE state = 'NM'\n",
        "  AND year = 2009\n",
        "  AND (name LIKE 'Av%' OR name LIKE 'Lia%')\n",
        "LIMIT 10;\n",
        "\"\"\"\n",
        "\n",
        "df_3 = client.query(query_3).to_dataframe()\n",
        "df_3\n"
      ],
      "metadata": {
        "id": "ZiduKJpFEohB"
      },
      "execution_count": null,
      "outputs": []
    },
    {
      "cell_type": "code",
      "source": [
        "# Top names in NM between 2005 and 2010\n",
        "query_4 = \"\"\"\n",
        "SELECT name, SUM(number) AS total\n",
        "FROM `bigquery-public-data.usa_names.usa_1910_2013`\n",
        "WHERE state = 'NM'\n",
        "  AND year BETWEEN 2005 AND 2010\n",
        "GROUP BY name\n",
        "ORDER BY total DESC\n",
        "LIMIT 100;\n",
        "\"\"\"\n",
        "\n",
        "df_4 = client.query(query_4).to_dataframe()\n",
        "df_4\n"
      ],
      "metadata": {
        "id": "1NnbyhgBErxP"
      },
      "execution_count": null,
      "outputs": []
    },
    {
      "cell_type": "markdown",
      "source": [
        "### Sorting and Grouping\n"
      ],
      "metadata": {
        "id": "j8GEuaSKvkgO"
      }
    },
    {
      "cell_type": "markdown",
      "source": [
        "Use the following: ORDER BY, DISCTINCT, GROUP BY"
      ],
      "metadata": {
        "id": "WcZlHhl8K6GZ"
      }
    },
    {
      "cell_type": "code",
      "source": [
        "# Top 10 female names in NM between 2000 and 2013\n",
        "query_5 = \"\"\"\n",
        "SELECT name, SUM(number) AS total\n",
        "FROM `bigquery-public-data.usa_names.usa_1910_2013`\n",
        "WHERE state = 'NM'\n",
        "  AND gender = 'F'\n",
        "  AND year BETWEEN 2000 AND 2013\n",
        "GROUP BY name\n",
        "ORDER BY total DESC\n",
        "LIMIT 10;\n",
        "\"\"\"\n",
        "\n",
        "df_5 = client.query(query_5).to_dataframe()\n",
        "df_5\n"
      ],
      "metadata": {
        "id": "_j6IveB4Howj"
      },
      "execution_count": null,
      "outputs": []
    },
    {
      "cell_type": "code",
      "source": [
        "# Most popular names in 2010 in NM\n",
        "query_6 = \"\"\"\n",
        "SELECT name, SUM(number) AS total\n",
        "FROM `bigquery-public-data.usa_names.usa_1910_2013`\n",
        "WHERE state = 'NM'\n",
        "  AND year = 2010\n",
        "GROUP BY name\n",
        "ORDER BY total DESC\n",
        "LIMIT 10;\n",
        "\"\"\"\n",
        "\n",
        "df_6 = client.query(query_6).to_dataframe()\n",
        "df_6\n"
      ],
      "metadata": {
        "id": "dMXJyYu6HsmE"
      },
      "execution_count": null,
      "outputs": []
    },
    {
      "cell_type": "code",
      "source": [
        "# All states included in the dataset\n",
        "query_7 = \"\"\"\n",
        "SELECT DISTINCT state\n",
        "FROM `bigquery-public-data.usa_names.usa_1910_2013`\n",
        "ORDER BY state;\n",
        "\"\"\"\n",
        "\n",
        "df_7 = client.query(query_7).to_dataframe()\n",
        "df_7\n"
      ],
      "metadata": {
        "id": "7j7GUOmKHwAI"
      },
      "execution_count": null,
      "outputs": []
    },
    {
      "cell_type": "code",
      "source": [
        "# Number of years each gendered name appears in NM\n",
        "query_8 = \"\"\"\n",
        "SELECT name, gender, COUNT(DISTINCT year) AS active_years\n",
        "FROM `bigquery-public-data.usa_names.usa_1910_2013`\n",
        "WHERE state = 'NM'\n",
        "GROUP BY name, gender\n",
        "ORDER BY active_years DESC\n",
        "LIMIT 100;\n",
        "\"\"\"\n",
        "\n",
        "df_8 = client.query(query_8).to_dataframe()\n",
        "df_8\n"
      ],
      "metadata": {
        "id": "cBBLzD_SH1AK"
      },
      "execution_count": null,
      "outputs": []
    },
    {
      "cell_type": "markdown",
      "source": [
        "## Processing\n"
      ],
      "metadata": {
        "id": "Ij_fgEbh2hVk"
      }
    },
    {
      "cell_type": "markdown",
      "source": [
        "### Aggregates\n"
      ],
      "metadata": {
        "id": "v0RQid2Svgxp"
      }
    },
    {
      "cell_type": "markdown",
      "source": [
        "Use the following: MAX, MIN, SUM, AVG, COUNT"
      ],
      "metadata": {
        "id": "MkLZOgDlLGOQ"
      }
    },
    {
      "cell_type": "code",
      "source": [
        "# Average, max, and min number of babies per name\n",
        "query_9 = \"\"\"\n",
        "SELECT name,\n",
        "       ROUND(AVG(number)) AS avg_per_year,\n",
        "       MAX(number) AS max_in_year,\n",
        "       MIN(number) AS min_in_year\n",
        "FROM `bigquery-public-data.usa_names.usa_1910_2013`\n",
        "WHERE state = 'NM'\n",
        "  AND year BETWEEN 1950 AND 2013\n",
        "GROUP BY name\n",
        "ORDER BY avg_per_year DESC\n",
        "LIMIT 10;\n",
        "\"\"\"\n",
        "\n",
        "df_9 = client.query(query_9).to_dataframe()\n",
        "df_9\n"
      ],
      "metadata": {
        "id": "rj2AhwWrH9z-"
      },
      "execution_count": null,
      "outputs": []
    },
    {
      "cell_type": "code",
      "source": [
        "# Count how many unique names were used each year\n",
        "query_10 = \"\"\"\n",
        "SELECT year, COUNT(DISTINCT name) AS unique_names\n",
        "FROM `bigquery-public-data.usa_names.usa_1910_2013`\n",
        "WHERE state = 'NM'\n",
        "GROUP BY year\n",
        "ORDER BY year;\n",
        "\"\"\"\n",
        "\n",
        "df_10 = client.query(query_10).to_dataframe()\n",
        "df_10\n"
      ],
      "metadata": {
        "id": "X-PkfoGeIAlm"
      },
      "execution_count": null,
      "outputs": []
    },
    {
      "cell_type": "code",
      "source": [
        "# Total babies born each year in NM\n",
        "query_11 = \"\"\"\n",
        "SELECT year, SUM(number) AS total_births\n",
        "FROM `bigquery-public-data.usa_names.usa_1910_2013`\n",
        "WHERE state = 'NM'\n",
        "GROUP BY year\n",
        "ORDER BY year;\n",
        "\"\"\"\n",
        "\n",
        "df_11 = client.query(query_11).to_dataframe()\n",
        "df_11\n"
      ],
      "metadata": {
        "id": "--8UF8erIEqj"
      },
      "execution_count": null,
      "outputs": []
    },
    {
      "cell_type": "code",
      "source": [
        "# Highest single-year popularity of any name in 2012\n",
        "query_12 = \"\"\"\n",
        "SELECT name, number\n",
        "FROM `bigquery-public-data.usa_names.usa_1910_2013`\n",
        "WHERE state = 'NM'\n",
        "  AND year = 2013\n",
        "ORDER BY number DESC\n",
        "LIMIT 10;\n",
        "\"\"\"\n",
        "\n",
        "df_12 = client.query(query_12).to_dataframe()\n",
        "df_12\n"
      ],
      "metadata": {
        "id": "8EciPsNkIHUx"
      },
      "execution_count": null,
      "outputs": []
    },
    {
      "cell_type": "code",
      "source": [
        "# Minimum number of babies per name per year in NM\n",
        "# Find the min number of all years (5)\n",
        "query_14 = \"\"\"\n",
        "SELECT year, MIN(number) AS min_per_year\n",
        "FROM `bigquery-public-data.usa_names.usa_1910_2013`\n",
        "WHERE state = 'NM'\n",
        "GROUP BY year\n",
        "ORDER BY year;\n",
        "\"\"\"\n",
        "\n",
        "df_14 = client.query(query_14).to_dataframe()\n",
        "df_14.min()"
      ],
      "metadata": {
        "id": "UTuzme5jIJxf"
      },
      "execution_count": null,
      "outputs": []
    },
    {
      "cell_type": "markdown",
      "source": [
        "The lowest name count in this dataset is consistently 5, across all years. This is because the U.S. Social Security Administration only reports names with 5 or more occurrences per year, to (statistically) protect individual privacy."
      ],
      "metadata": {
        "id": "JqUQJMzOJLiL"
      }
    },
    {
      "cell_type": "code",
      "source": [
        "# # Find years where at least one name was used only once #THIS ENDED UP NOT BEING RELEVANT\n",
        "# query_15 = \"\"\"\n",
        "# SELECT DISTINCT year\n",
        "# FROM `bigquery-public-data.usa_names.usa_1910_2013`\n",
        "# WHERE state = 'NM' AND number = 5\n",
        "# ORDER BY year;\n",
        "# \"\"\"\n",
        "\n",
        "# df_15 = client.query(query_15).to_dataframe()\n",
        "# df_15\n"
      ],
      "metadata": {
        "id": "aA2isGJTIfV3"
      },
      "execution_count": null,
      "outputs": []
    },
    {
      "cell_type": "code",
      "source": [
        "# # Names used only once in a known-valid year (e.g., 2004) #THIS ENDED UP NOT BEING RELEVANT\n",
        "# query_16 = \"\"\"\n",
        "# SELECT name, number\n",
        "# FROM `bigquery-public-data.usa_names.usa_1910_2013`\n",
        "# WHERE state = 'NM'\n",
        "#   AND year = 2004\n",
        "#   AND number = 5\n",
        "# LIMIT 100;\n",
        "# \"\"\"\n",
        "\n",
        "# df_16 = client.query(query_16).to_dataframe()\n",
        "# df_16\n"
      ],
      "metadata": {
        "id": "uIS6_92-IkjJ"
      },
      "execution_count": null,
      "outputs": []
    },
    {
      "cell_type": "code",
      "source": [
        "# Most popular names from 2000–2013 (total summed across years)\n",
        "query_17 = \"\"\"\n",
        "SELECT name, SUM(number) AS total\n",
        "FROM `bigquery-public-data.usa_names.usa_1910_2013`\n",
        "WHERE state = 'NM' AND year BETWEEN 2000 AND 2013\n",
        "GROUP BY name\n",
        "ORDER BY total DESC\n",
        "LIMIT 10;\n",
        "\"\"\"\n",
        "\n",
        "df_17 = client.query(query_17).to_dataframe()\n",
        "df_17\n"
      ],
      "metadata": {
        "id": "NLelV5fsIryt"
      },
      "execution_count": null,
      "outputs": []
    },
    {
      "cell_type": "markdown",
      "source": [
        "## Data Visualization/Communication of Results\n"
      ],
      "metadata": {
        "id": "gjDTKyc12jR7"
      }
    },
    {
      "cell_type": "markdown",
      "source": [
        "## Make some plots\n",
        "\n",
        "Make some cool plots to go with your data. Write SQL queries to get ONLY the information you need for each plot. (Don't pull ALL the data and then just plot a few columns.)\n",
        "\n"
      ],
      "metadata": {
        "id": "ntL8dHJT57K8"
      }
    },
    {
      "cell_type": "code",
      "source": [],
      "metadata": {
        "id": "SZXIuqBX6L50"
      },
      "execution_count": null,
      "outputs": []
    },
    {
      "cell_type": "code",
      "source": [
        "plt.figure(figsize=(10, 6))\n",
        "plt.plot(df_11['year'], df_11['total_births'], color='green', marker='o')\n",
        "plt.title('Total Recorded Baby Names per Year in New Mexico')\n",
        "plt.xlabel('Year')\n",
        "plt.ylabel('Total Births (Name Records ≥ 5)')\n",
        "plt.grid(True)\n",
        "plt.show()\n"
      ],
      "metadata": {
        "id": "Hr8Y2srHJfJt"
      },
      "execution_count": null,
      "outputs": []
    },
    {
      "cell_type": "code",
      "source": [
        "plt.figure(figsize=(10, 6))\n",
        "plt.plot(df_10['year'], df_10['unique_names'], color='purple', marker='o')\n",
        "plt.title('Unique Baby Names per Year in New Mexico')\n",
        "plt.xlabel('Year')\n",
        "plt.ylabel('Number of Unique Names (Name Records ≥ 5)')\n",
        "plt.grid(True)\n",
        "plt.show()\n"
      ],
      "metadata": {
        "id": "AI-ZZdIjJkbw"
      },
      "execution_count": null,
      "outputs": []
    },
    {
      "cell_type": "code",
      "source": [
        "# Bar chart for top 10 female names 2000–2013\n",
        "plt.figure(figsize=(10, 6))\n",
        "plt.bar(df_5['name'], df_5['total'], color='turquoise')\n",
        "plt.title('Top 10 Girl Names in New Mexico (2000–2013)')\n",
        "plt.xlabel('Name')\n",
        "plt.ylabel('Total Babies Named')\n",
        "plt.xticks(rotation=60)\n",
        "plt.grid(True)\n",
        "plt.show()\n"
      ],
      "metadata": {
        "id": "FMp3sLy3JUfF"
      },
      "execution_count": null,
      "outputs": []
    },
    {
      "cell_type": "code",
      "source": [
        "query_isabella = \"\"\"\n",
        "SELECT year, SUM(number) AS total\n",
        "FROM `bigquery-public-data.usa_names.usa_1910_2013`\n",
        "WHERE state = 'NM' AND name = 'Isabella'\n",
        "GROUP BY year\n",
        "ORDER BY year;\n",
        "\"\"\"\n",
        "df_isabella = client.query(query_isabella).to_dataframe()\n"
      ],
      "metadata": {
        "id": "mKh3HsuGJZQN"
      },
      "execution_count": null,
      "outputs": []
    },
    {
      "cell_type": "code",
      "source": [
        "plt.figure(figsize=(10, 6))\n",
        "plt.plot(df_isabella['year'], df_isabella['total'], marker='o')\n",
        "plt.title('Popularity of \"Isabella\" in NM Over Time')\n",
        "plt.xlabel('Year')\n",
        "plt.ylabel('Babies Named Isabella')\n",
        "plt.grid(True)\n",
        "plt.show()\n"
      ],
      "metadata": {
        "id": "VCEB1jJwJbhQ"
      },
      "execution_count": null,
      "outputs": []
    },
    {
      "cell_type": "code",
      "source": [
        "# Get the top 5 female baby names in NM (2000–2013)\n",
        "query_top5_names = \"\"\"\n",
        "SELECT name, SUM(number) AS total\n",
        "FROM `bigquery-public-data.usa_names.usa_1910_2013`\n",
        "WHERE state = 'NM' AND gender = 'F' AND year BETWEEN 2000 AND 2013\n",
        "GROUP BY name\n",
        "ORDER BY total DESC\n",
        "LIMIT 5;\n",
        "\"\"\"\n",
        "df_top5 = client.query(query_top5_names).to_dataframe()\n",
        "top5_names = df_top5['name'].tolist()\n",
        "top5_names\n"
      ],
      "metadata": {
        "id": "DQKX9t3oJvYB"
      },
      "execution_count": null,
      "outputs": []
    },
    {
      "cell_type": "code",
      "source": [
        "# Query 2000-2013 for the top 5 names\n",
        "query_top5_trend = f\"\"\"\n",
        "SELECT name, year, SUM(number) AS total\n",
        "FROM `bigquery-public-data.usa_names.usa_1910_2013`\n",
        "WHERE state = 'NM'\n",
        "  AND gender = 'F'\n",
        "  AND year BETWEEN 2000 AND 2013\n",
        "  AND name IN ({', '.join([f\"'{name}'\" for name in top5_names])})\n",
        "GROUP BY name, year\n",
        "ORDER BY name, year;\n",
        "\"\"\"\n",
        "\n",
        "df_top5_trend = client.query(query_top5_trend).to_dataframe()\n",
        "df_top5_trend.head()\n"
      ],
      "metadata": {
        "id": "YbrkZOwIJxgb"
      },
      "execution_count": null,
      "outputs": []
    },
    {
      "cell_type": "code",
      "source": [
        "plt.figure(figsize=(10, 6))\n",
        "\n",
        "# Plot one line per name\n",
        "for name in top5_names:\n",
        "    df_subset = df_top5_trend[df_top5_trend['name'] == name]\n",
        "    plt.plot(df_subset['year'], df_subset['total'], marker='o', label=name)\n",
        "\n",
        "plt.title('Top 5 Female Baby Names in New Mexico (2000–2013)')\n",
        "plt.xlabel('Year')\n",
        "plt.ylabel('Number of Babies')\n",
        "plt.legend(title=\"Name\")\n",
        "plt.grid(True)\n",
        "plt.tight_layout()\n",
        "plt.show()\n"
      ],
      "metadata": {
        "id": "OquVVUMJJ1hm"
      },
      "execution_count": null,
      "outputs": []
    },
    {
      "cell_type": "code",
      "source": [
        "# Get the top 5 boy names in NM (2000–2013)\n",
        "query_top5_boys = \"\"\"\n",
        "SELECT name, SUM(number) AS total\n",
        "FROM `bigquery-public-data.usa_names.usa_1910_2013`\n",
        "WHERE state = 'NM' AND gender = 'M' AND year BETWEEN 2000 AND 2013\n",
        "GROUP BY name\n",
        "ORDER BY total DESC\n",
        "LIMIT 5;\n",
        "\"\"\"\n",
        "df_top5_boys = client.query(query_top5_boys).to_dataframe()\n",
        "top5_boy_names = df_top5_boys['name'].tolist()\n",
        "top5_boy_names\n"
      ],
      "metadata": {
        "id": "wf14-iG6KCSL"
      },
      "execution_count": null,
      "outputs": []
    },
    {
      "cell_type": "code",
      "source": [
        "# Query 2000–2013 for the top 5 male names\n",
        "query_top5_boy_trend = f\"\"\"\n",
        "SELECT name, year, SUM(number) AS total\n",
        "FROM `bigquery-public-data.usa_names.usa_1910_2013`\n",
        "WHERE state = 'NM'\n",
        "  AND gender = 'M'\n",
        "  AND year BETWEEN 2000 AND 2013\n",
        "  AND name IN ({', '.join([f\"'{name}'\" for name in top5_boy_names])})\n",
        "GROUP BY name, year\n",
        "ORDER BY name, year;\n",
        "\"\"\"\n",
        "\n",
        "df_top5_boy_trend = client.query(query_top5_boy_trend).to_dataframe()\n",
        "df_top5_boy_trend.head()\n"
      ],
      "metadata": {
        "id": "Y1VosaLgKFLs"
      },
      "execution_count": null,
      "outputs": []
    },
    {
      "cell_type": "code",
      "source": [
        "import matplotlib.pyplot as plt\n",
        "\n",
        "plt.figure(figsize=(10, 6))\n",
        "\n",
        "# Plot one line per name\n",
        "for name in top5_boy_names:\n",
        "    df_subset = df_top5_boy_trend[df_top5_boy_trend['name'] == name]\n",
        "    plt.plot(df_subset['year'], df_subset['total'], marker='o', label=name)\n",
        "\n",
        "plt.title('Top 5 Male Baby Names in New Mexico (2000–2013)')\n",
        "plt.xlabel('Year')\n",
        "plt.ylabel('Number of Babies')\n",
        "plt.legend(title=\"Name\")\n",
        "plt.grid(True)\n",
        "plt.tight_layout()\n",
        "plt.show()\n"
      ],
      "metadata": {
        "id": "d0HLlqyBKHi-"
      },
      "execution_count": null,
      "outputs": []
    },
    {
      "cell_type": "markdown",
      "source": [
        "## EXTRA CREDIT:"
      ],
      "metadata": {
        "id": "H6QrBn3n58mU"
      }
    },
    {
      "cell_type": "markdown",
      "source": [
        "#### Use a query that joins two tables.\n"
      ],
      "metadata": {
        "id": "sP4dPeyzwMDE"
      }
    },
    {
      "cell_type": "code",
      "source": [],
      "metadata": {
        "id": "XIZq3j1JwOJP"
      },
      "execution_count": null,
      "outputs": []
    },
    {
      "cell_type": "markdown",
      "source": [
        "#### Make a model to see if you can predict something\n"
      ],
      "metadata": {
        "id": "rgVUGrtbwLcP"
      }
    },
    {
      "cell_type": "code",
      "source": [],
      "metadata": {
        "id": "-bLK25WCNod_"
      },
      "execution_count": null,
      "outputs": []
    },
    {
      "cell_type": "markdown",
      "source": [
        "#### Come up with something else cool to do with your data\n"
      ],
      "metadata": {
        "id": "mJl5WAVMwK0j"
      }
    },
    {
      "cell_type": "code",
      "source": [],
      "metadata": {
        "id": "rEZQv6vn59IP"
      },
      "execution_count": null,
      "outputs": []
    }
  ]
}